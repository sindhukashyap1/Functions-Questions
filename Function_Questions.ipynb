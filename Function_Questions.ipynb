{
  "nbformat": 4,
  "nbformat_minor": 0,
  "metadata": {
    "colab": {
      "provenance": []
    },
    "kernelspec": {
      "name": "python3",
      "display_name": "Python 3"
    },
    "language_info": {
      "name": "python"
    }
  },
  "cells": [
    {
      "cell_type": "markdown",
      "source": [
        "Q1. What is the di-erence between a function and a method in Python?\n",
        "A function is a block of reusable code that performs a specific task and can be called\n",
        "independently.\n",
        "A method is similar to a function but is associated with an object and usually operates\n",
        "on that object.\n",
        "Example:\n",
        "def greet():\n",
        "return \"Hello\" # Function\n",
        "\n",
        "name = \"Sindhu\"\n",
        "print(name.upper()) # Method (upper is tied to the string object)\n",
        "\n",
        "Q2. Explain the concept of function arguments and parameters in Python.\n",
        "Parameters are variables defined in the function definition, while arguments are the\n",
        "actual values you pass when calling the function.\n",
        "Example:\n",
        "def add(a, b): # a and b are parameters\n",
        "return a + b\n",
        "\n",
        "print(add(5, 10)) # 5 and 10 are arguments\n",
        "\n",
        "Q3. What are the di-erent ways to define and call a function in Python?\n",
        "• Normal function with def\n",
        "• Lambda function (anonymous)\n",
        "• Built-in functions\n",
        "Example:\n",
        "def square(x): # Normal function\n",
        "return x * x\n",
        "\n",
        "square_lambda = lambda x: x * x # Lambda\n",
        "\n",
        "print(square(4)) # Calling normal function\n",
        "print(square_lambda(4)) # Calling lambda\n",
        "\n",
        "Q4. What is the purpose of the return statement in a Python function?\n",
        "The return statement sends a value back to the caller of the function. Without it, the\n",
        "function returns None.\n",
        "Example:\n",
        "def multiply(a, b):\n",
        "return a * b\n",
        "\n",
        "result = multiply(3, 4)\n",
        "print(result) # 12\n",
        "\n",
        "Q5. What are iterators in Python and how do they di-er from iterables?\n",
        "• An iterable is any object that can return an iterator (like lists, tuples, strings).\n",
        "• An iterator is an object with __next__() method that gives elements one at a time.\n",
        "Example:\n",
        "nums = [1, 2, 3] # Iterable\n",
        "it = iter(nums) # Iterator\n",
        "print(next(it)) # 1\n",
        "print(next(it)) # 2\n",
        "\n",
        "Q6. Explain the concept of generators in Python and how they are defined.\n",
        "A generator is a special type of iterator created using yield instead of return. It produces\n",
        "values lazily, one at a time.\n",
        "Example:\n",
        "def countdown(n):\n",
        "while n > 0:\n",
        "\n",
        "yield n\n",
        "n -= 1\n",
        "\n",
        "for num in countdown(3):\n",
        "print(num) # 3, 2, 1\n",
        "\n",
        "Q7. What are the advantages of using generators over regular functions?\n",
        "• Memory e^icient (don’t store all values at once)\n",
        "• Useful for working with large datasets or infinite sequences.\n",
        "Example:\n",
        "def squares_gen(n):\n",
        "for i in range(n):\n",
        "yield i * i\n",
        "\n",
        "for val in squares_gen(5):\n",
        "print(val) # prints 0,1,4,9,16\n",
        "\n",
        "Q8. What is a lambda function in Python and when is it typically used?\n",
        "A lambda function is a small, anonymous function defined with lambda. It is often used\n",
        "for short operations where defining a full function is unnecessary.\n",
        "Example:\n",
        "square = lambda x: x * x\n",
        "print(square(6)) # 36\n",
        "\n",
        "Q9. Explain the purpose and usage of the map() function in Python.\n",
        "map() applies a function to each element of an iterable and returns a map object\n",
        "(iterator).\n",
        "Example:\n",
        "nums = [1, 2, 3, 4]\n",
        "\n",
        "squared = map(lambda x: x * x, nums)\n",
        "print(list(squared)) # [1, 4, 9, 16]\n",
        "\n",
        "Q10. What is the di-erence between map(), reduce(), and filter() functions in\n",
        "Python?\n",
        "• map() applies a function to all elements.\n",
        "• filter() keeps only elements where the function returns True.\n",
        "• reduce() applies a function cumulatively to reduce iterable to a single value.\n",
        "Example:\n",
        "from functools import reduce\n",
        "\n",
        "nums = [1, 2, 3, 4, 5]\n",
        "\n",
        "mapped = list(map(lambda x: x*2, nums)) # [2, 4, 6, 8, 10]\n",
        "filtered = list(filter(lambda x: x % 2 == 0, nums)) # [2, 4]\n",
        "reduced = reduce(lambda a, b: a + b, nums) # 15\n",
        "\n",
        "print(mapped, filtered, reduced)\n",
        "\n",
        "Q11. Using pen & paper write the internal mechanism for sum operation using\n",
        "reduce function on list [47, 11, 42, 13]. (pls refer to the word document)"
      ],
      "metadata": {
        "id": "uKx7UDJEK32f"
      }
    },
    {
      "cell_type": "code",
      "execution_count": null,
      "metadata": {
        "colab": {
          "base_uri": "https://localhost:8080/"
        },
        "id": "_mRowSGvvPiV",
        "outputId": "0d41d0d7-63ac-4709-d02c-790ee91c781f"
      },
      "outputs": [
        {
          "output_type": "stream",
          "name": "stdout",
          "text": [
            "12\n"
          ]
        }
      ],
      "source": [
        "# Q1. Write a Python function that takes a list of numbers as input and returns the sum of all even numbers in the list\n",
        "def sum_even_numbers(numbers):\n",
        "    return sum(num for num in numbers if num % 2 == 0)\n",
        "\n",
        "print(sum_even_numbers([1, 2, 3, 4, 5, 6]))"
      ]
    },
    {
      "cell_type": "code",
      "source": [
        "# Q2. Create a Python function that accepts a string and returns the reverse of that string\n",
        "def reverse_string(s):\n",
        "    return s[::-1]\n",
        "\n",
        "print(reverse_string(\"Python\"))"
      ],
      "metadata": {
        "colab": {
          "base_uri": "https://localhost:8080/"
        },
        "id": "0zMDjYpswtnq",
        "outputId": "c75085a5-a6f2-4d06-d70a-54852ca4cae8"
      },
      "execution_count": null,
      "outputs": [
        {
          "output_type": "stream",
          "name": "stdout",
          "text": [
            "nohtyP\n"
          ]
        }
      ]
    },
    {
      "cell_type": "code",
      "source": [
        "# Q3. Implement a Python function that takes a list of integers and returns a new list containing the squares of each number\n",
        "def square_list(numbers):\n",
        "    return [num ** 2 for num in numbers]\n",
        "\n",
        "print(square_list([1, 2, 3, 4]))"
      ],
      "metadata": {
        "colab": {
          "base_uri": "https://localhost:8080/"
        },
        "id": "GUzDl_BQwt7T",
        "outputId": "902f17c3-fb90-4c56-86dd-208d2ad3d781"
      },
      "execution_count": null,
      "outputs": [
        {
          "output_type": "stream",
          "name": "stdout",
          "text": [
            "[1, 4, 9, 16]\n"
          ]
        }
      ]
    },
    {
      "cell_type": "code",
      "source": [
        "# Q4. Write a Python function that checks if a given number is prime or not from 1 to 200\n",
        "def is_prime(n):\n",
        "    if n < 2:\n",
        "        return False\n",
        "    for i in range(2, int(n**0.5) + 1):\n",
        "        if n % i == 0:\n",
        "            return False\n",
        "    return True\n",
        "\n",
        "print([n for n in range(1, 201) if is_prime(n)])"
      ],
      "metadata": {
        "colab": {
          "base_uri": "https://localhost:8080/"
        },
        "id": "HVhPYy4nwuD4",
        "outputId": "e1a286ea-6ed5-4834-84b4-206c54a09a29"
      },
      "execution_count": null,
      "outputs": [
        {
          "output_type": "stream",
          "name": "stdout",
          "text": [
            "[2, 3, 5, 7, 11, 13, 17, 19, 23, 29, 31, 37, 41, 43, 47, 53, 59, 61, 67, 71, 73, 79, 83, 89, 97, 101, 103, 107, 109, 113, 127, 131, 137, 139, 149, 151, 157, 163, 167, 173, 179, 181, 191, 193, 197, 199]\n"
          ]
        }
      ]
    },
    {
      "cell_type": "code",
      "source": [
        "# Q5. Create an iterator class in Python that generates the Fibonacci sequence up to a specified number of terms\n",
        "class Fibonacci:\n",
        "    def __init__(self, n):\n",
        "        self.n = n\n",
        "        self.a, self.b, self.count = 0, 1, 0\n",
        "\n",
        "    def __iter__(self):\n",
        "        return self\n",
        "\n",
        "    def __next__(self):\n",
        "        if self.count >= self.n:\n",
        "            raise StopIteration\n",
        "        self.count += 1\n",
        "        self.a, self.b = self.b, self.a + self.b\n",
        "        return self.a\n",
        "\n",
        "for num in Fibonacci(10):\n",
        "    print(num, end=\" \")"
      ],
      "metadata": {
        "colab": {
          "base_uri": "https://localhost:8080/"
        },
        "id": "fnIm6gNIwuK-",
        "outputId": "746edc9e-c950-4380-acd1-68d53705396a"
      },
      "execution_count": null,
      "outputs": [
        {
          "output_type": "stream",
          "name": "stdout",
          "text": [
            "1 1 2 3 5 8 13 21 34 55 "
          ]
        }
      ]
    },
    {
      "cell_type": "code",
      "source": [
        "# Q6. Write a generator function in Python that yields the powers of 2 up to a given exponent\n",
        "def powers_of_two(n):\n",
        "    for i in range(n+1):\n",
        "        yield 2 ** i\n",
        "\n",
        "for val in powers_of_two(5):\n",
        "    print(val)"
      ],
      "metadata": {
        "colab": {
          "base_uri": "https://localhost:8080/"
        },
        "id": "_PJ1Rgh1wuS5",
        "outputId": "6471ceb1-5ac3-4318-c04c-e0a748369e18"
      },
      "execution_count": null,
      "outputs": [
        {
          "output_type": "stream",
          "name": "stdout",
          "text": [
            "1\n",
            "2\n",
            "4\n",
            "8\n",
            "16\n",
            "32\n"
          ]
        }
      ]
    },
    {
      "cell_type": "code",
      "source": [
        "# Q7. Implement a generator function that reads a file line by line and yields each line as a string\n",
        "def read_file(filename):\n",
        "    with open(filename, \"r\") as f:\n",
        "        for line in f:\n",
        "            yield line.strip()"
      ],
      "metadata": {
        "id": "JOdSYIYTwuiT"
      },
      "execution_count": null,
      "outputs": []
    },
    {
      "cell_type": "code",
      "source": [
        "# Q8. Use a lambda function in Python to sort a list of tuples based on the second element of each tuple\n",
        "data = [(1, 4), (3, 1), (5, 2)]\n",
        "sorted_data = sorted(data, key=lambda x: x[1])\n",
        "print(sorted_data)"
      ],
      "metadata": {
        "colab": {
          "base_uri": "https://localhost:8080/"
        },
        "id": "rF3-tPpWwuqY",
        "outputId": "43152c2a-1898-4fb1-96c9-08506ae38bd7"
      },
      "execution_count": null,
      "outputs": [
        {
          "output_type": "stream",
          "name": "stdout",
          "text": [
            "[(3, 1), (5, 2), (1, 4)]\n"
          ]
        }
      ]
    },
    {
      "cell_type": "code",
      "source": [
        "# Q9. Write a Python program that uses map() to convert a list of temperatures from Celsius to Fahrenheit\n",
        "celsius = [0, 20, 30, 40]\n",
        "fahrenheit = list(map(lambda c: (c * 9/5) + 32, celsius))\n",
        "print(fahrenheit)"
      ],
      "metadata": {
        "colab": {
          "base_uri": "https://localhost:8080/"
        },
        "id": "O5KtSOgGwu1-",
        "outputId": "2c4c83fc-4aa5-4486-e709-42d588278f7b"
      },
      "execution_count": null,
      "outputs": [
        {
          "output_type": "stream",
          "name": "stdout",
          "text": [
            "[32.0, 68.0, 86.0, 104.0]\n"
          ]
        }
      ]
    },
    {
      "cell_type": "code",
      "source": [
        "# Q10. Create a Python program that uses filter() to remove all the vowels from a given string\n",
        "s = \"Hello World\"\n",
        "result = \"\".join(filter(lambda ch: ch.lower() not in \"aeiou\", s))\n",
        "print(result)"
      ],
      "metadata": {
        "colab": {
          "base_uri": "https://localhost:8080/"
        },
        "id": "NPp5Sn_0wvAo",
        "outputId": "0a6ecb14-d96a-471f-db7a-f9b20ac17769"
      },
      "execution_count": null,
      "outputs": [
        {
          "output_type": "stream",
          "name": "stdout",
          "text": [
            "Hll Wrld\n"
          ]
        }
      ]
    },
    {
      "cell_type": "code",
      "source": [
        "# Q11. Write a Python program using lambda and map for the accounting routine\n",
        "orders = [\n",
        "    [34587, \"Learning Python, Mark Lutz\", 4, 40.95],\n",
        "    [98762, \"Programming Python, Mark Lutz\", 5, 56.80],\n",
        "    [77226, \"Head First Python, Paul Barry\", 3, 32.95],\n",
        "    [88112, \"Einführung in Python3, Bernd Klein\", 3, 24.99]\n",
        "]\n",
        "\n",
        "result = list(map(lambda x: (x[0], x[2] * x[3] + 10 if x[2] * x[3] < 100 else x[2] * x[3]), orders))\n",
        "print(result)"
      ],
      "metadata": {
        "colab": {
          "base_uri": "https://localhost:8080/"
        },
        "id": "4mZtnxMvxcsF",
        "outputId": "14c17caf-773d-4de3-f6c0-e9f961cdb993"
      },
      "execution_count": null,
      "outputs": [
        {
          "output_type": "stream",
          "name": "stdout",
          "text": [
            "[(34587, 163.8), (98762, 284.0), (77226, 108.85000000000001), (88112, 84.97)]\n"
          ]
        }
      ]
    }
  ]
}